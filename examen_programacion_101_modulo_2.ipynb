{
  "nbformat": 4,
  "nbformat_minor": 0,
  "metadata": {
    "colab": {
      "provenance": [],
      "authorship_tag": "ABX9TyMvpYPXWfUJNxfuD9hGOyLk",
      "include_colab_link": true
    },
    "kernelspec": {
      "name": "python3",
      "display_name": "Python 3"
    },
    "language_info": {
      "name": "python"
    }
  },
  "cells": [
    {
      "cell_type": "markdown",
      "metadata": {
        "id": "view-in-github",
        "colab_type": "text"
      },
      "source": [
        "<a href=\"https://colab.research.google.com/github/bmontoyag/UTEC_IA_Fundamentals/blob/main/examen_programacion_101_modulo_2.ipynb\" target=\"_parent\"><img src=\"https://colab.research.google.com/assets/colab-badge.svg\" alt=\"Open In Colab\"/></a>"
      ]
    },
    {
      "cell_type": "markdown",
      "source": [
        "#**Examen: Construyendo el Sistema de Recomendación de PythonFlix**\n",
        "\n",
        "**Contexto**\n",
        "\n",
        " Eres parte del equipo de ingeniería de PythonFlix, una plataforma de streaming que necesita construir y mejorar su sistema de recomendación. Vas a trabajar con estructuras de datos como listas, tuplas, diccionarios y sets para procesar ratings, historiales y perfiles de usuario.\n"
      ],
      "metadata": {
        "id": "1MzqQ3AVuFoh"
      }
    },
    {
      "cell_type": "markdown",
      "source": [
        "**1. Catálogo de contenido (Listas y tuplas)**\n",
        "\n",
        "Tienes una tupla inmutable con las series más vistas:\n",
        "\n",
        "catalogo_popular = (\"Breaking Python\", \"Data Science 101\", \"Machine Love\", \"Debug Wars\")\n",
        "\n",
        "Convierte esta tupla en una lista y realiza lo siguiente:\n",
        "\n",
        "●\tAgrega una nueva serie: \"Neural Networks\"\n",
        "\n",
        "●\tReemplaza \"Debug Wars\" por \"AI Rebellion\"\n",
        "\n",
        "●\tOrdena la lista alfabéticamente\n"
      ],
      "metadata": {
        "id": "6pOjBjyPuJuL"
      }
    },
    {
      "cell_type": "code",
      "source": [
        "# Tupla original con las series más vistas\n",
        "catalogo_popular = (\"Breaking Python\", \"Data Science 101\", \"Machine Love\", \"Debug Wars\")\n",
        "\n",
        "# Convertir la tupla en una lista\n",
        "catalogo_lista = list(catalogo_popular)\n",
        "\n",
        "# Agregar la nueva serie \"Neural Networks\"\n",
        "catalogo_lista.append(\"Neural Networks\")\n",
        "\n",
        "# Reemplazar \"Debug Wars\" por \"AI Rebellion\"\n",
        "indice_debug_wars = catalogo_lista.index(\"Debug Wars\")\n",
        "catalogo_lista[indice_debug_wars] = \"AI Rebellion\"\n",
        "\n",
        "# Ordenar la lista alfabéticamente\n",
        "catalogo_lista.sort()\n",
        "\n",
        "# Imprimir el resultado final\n",
        "print(catalogo_lista)"
      ],
      "metadata": {
        "colab": {
          "base_uri": "https://localhost:8080/"
        },
        "id": "lXzH9yyRuJI8",
        "outputId": "d14ba138-fb77-48ff-931a-af7dd9ce86e6"
      },
      "execution_count": 2,
      "outputs": [
        {
          "output_type": "stream",
          "name": "stdout",
          "text": [
            "['AI Rebellion', 'Breaking Python', 'Data Science 101', 'Machine Love', 'Neural Networks']\n"
          ]
        }
      ]
    },
    {
      "cell_type": "markdown",
      "source": [
        "**2. Filtrado de géneros (Slicing)**\n",
        "\n",
        "Tienes una lista con los géneros disponibles:\n",
        "\n",
        "generos = [\"Drama\", \"Comedia\", \"Acción\", \"Sci-Fi\", \"Documental\", \"Terror\", \"Romance\"]\n",
        "\n",
        "Realiza:\n",
        "\n",
        "* Un slicing que obtenga los géneros del medio\n",
        "\n",
        "* Un slicing que obtenga los tres primeros géneros\n",
        "\n",
        "* Los géneros ordenados en orden inverso (usando slicing)\n"
      ],
      "metadata": {
        "id": "Q9LyV2xQuQt3"
      }
    },
    {
      "cell_type": "code",
      "source": [
        "# Lista de géneros\n",
        "generos = [\"Drama\", \"Comedia\", \"Acción\", \"Sci-Fi\", \"Documental\", \"Terror\", \"Romance\"]\n",
        "\n",
        "# Obtener los géneros del medio dinámicamente\n",
        "inicio_medio = (len(generos) - 1) // 2  # Calculamos el índice inicial\n",
        "fin_medio = inicio_medio + (2 if len(generos) % 2 == 0 else 3)\n",
        "generos_medio = generos[inicio_medio:fin_medio]\n",
        "print(\"Géneros del medio:\", generos_medio)\n",
        "\n",
        "# Obtener los tres primeros géneros sin poner números en duro\n",
        "primeros_generos = generos[:len(generos) // 2]  # Obtener la primera mitad\n",
        "print(\"Primeros géneros:\", primeros_generos)\n",
        "\n",
        "# Obtener la lista en orden inverso de manera dinámica\n",
        "generos_inverso = generos[::-1]\n",
        "print(\"Géneros en orden inverso:\", generos_inverso)"
      ],
      "metadata": {
        "colab": {
          "base_uri": "https://localhost:8080/"
        },
        "id": "tn456_lSuTY1",
        "outputId": "54cf3850-5652-495d-e662-56d083e29618"
      },
      "execution_count": 7,
      "outputs": [
        {
          "output_type": "stream",
          "name": "stdout",
          "text": [
            "Géneros del medio: ['Sci-Fi', 'Documental', 'Terror']\n",
            "Primeros géneros: ['Drama', 'Comedia', 'Acción']\n",
            "Géneros en orden inverso: ['Romance', 'Terror', 'Documental', 'Sci-Fi', 'Acción', 'Comedia', 'Drama']\n"
          ]
        }
      ]
    },
    {
      "cell_type": "markdown",
      "source": [
        "**3. Puntajes de usuarios (Listas por comprensión)**\n",
        "\n",
        "Tienes una lista de ratings otorgados por un usuario a distintas series:\n",
        "ratings = [4.5, 3.0, 5.0, 2.5, 4.0, 1.5]\n",
        "\n",
        "Con listas por comprensión, crea:\n",
        "\n",
        "* Una lista con solo los ratings mayores a 3.5\n",
        "\n",
        "*\tUna lista con los ratings convertidos a una escala del 1 al 100\n",
        "\n",
        "*\tUna lista de strings que diga \"Alta\" si rating > 4, \"Media\" si entre 3 y 4, \"Baja\" si menor\n",
        "\n"
      ],
      "metadata": {
        "id": "WqXO-1DDuS9_"
      }
    },
    {
      "cell_type": "code",
      "source": [
        "# Lista de ratings\n",
        "ratings = [4.5, 3.0, 5.0, 2.5, 4.0, 1.5]\n",
        "\n",
        "# 1. Filtrar solo los ratings mayores a 3.5\n",
        "ratings_filtrados = [r for r in ratings if r > 3.5]\n",
        "print(\"Ratings mayores a 3.5:\", ratings_filtrados)\n",
        "\n",
        "# 2. Convertir los ratings a una escala del 1 al 100\n",
        "ratings_escalados = [r * 20 for r in ratings]\n",
        "print(\"Ratings en escala de 1 a 100:\", ratings_escalados)\n",
        "\n",
        "# 3. Categorizar los ratings como \"Alta\", \"Media\" o \"Baja\"\n",
        "ratings_categorias = [\"Alta\" if r > 4 else \"Media\" if 3 <= r <= 4 else \"Baja\" for r in ratings]\n",
        "print(\"Categorías de ratings:\", ratings_categorias)"
      ],
      "metadata": {
        "colab": {
          "base_uri": "https://localhost:8080/"
        },
        "id": "DUtOMBXUuY6n",
        "outputId": "2eea8413-0879-460b-ad01-49be6b43ad03"
      },
      "execution_count": 8,
      "outputs": [
        {
          "output_type": "stream",
          "name": "stdout",
          "text": [
            "Ratings mayores a 3.5: [4.5, 5.0, 4.0]\n",
            "Ratings en escala de 1 a 100: [90.0, 60.0, 100.0, 50.0, 80.0, 30.0]\n",
            "Categorías de ratings: ['Alta', 'Media', 'Alta', 'Baja', 'Media', 'Baja']\n"
          ]
        }
      ]
    },
    {
      "cell_type": "markdown",
      "source": [
        "**4. Historial de visualización (Diccionarios)**\n",
        "\n",
        "Tienes un diccionario que representa el historial de un usuario:\n",
        "historial = {\n",
        "  \"Breaking Python\": 3,\n",
        "  \"Machine Love\": 5,\n",
        "  \"Data Science 101\": 2\n",
        "}\n",
        "\n",
        "Realiza lo siguiente:\n",
        "\n",
        "* Aumenta en 1 la cantidad de veces que vio \"Data Science 101\"\n",
        "\n",
        "*\tAñade la serie \"AI Rebellion\" con 1 visualización\n",
        "\n",
        "*\tElimina \"Machine Love\" del historial\n",
        "\n",
        "*\tMuestra todas las series que el usuario vio más de 2 veces\n",
        "\n",
        "\n"
      ],
      "metadata": {
        "id": "3sLfxrfxuZN8"
      }
    },
    {
      "cell_type": "code",
      "source": [
        "# Diccionario original\n",
        "historial = {\n",
        "    \"Breaking Python\": 3,\n",
        "    \"Machine Love\": 5,\n",
        "    \"Data Science 101\": 2\n",
        "}\n",
        "\n",
        "# 1. Aumentar en 1 la visualización de \"Data Science 101\"\n",
        "historial[\"Data Science 101\"] += 1\n",
        "\n",
        "# 2. Añadir la serie \"AI Rebellion\" con 1 visualización\n",
        "historial[\"AI Rebellion\"] = 1\n",
        "\n",
        "# 3. Eliminar \"Machine Love\" del historial\n",
        "del historial[\"Machine Love\"]\n",
        "\n",
        "# 4. Obtener las series vistas más de 2 veces\n",
        "series_mas_vistas = [serie for serie, veces in historial.items() if veces > 2]\n",
        "\n",
        "# Mostrar los resultados\n",
        "print(\"Historial actualizado:\", historial)\n",
        "print(\"Series vistas más de 2 veces:\", series_mas_vistas)"
      ],
      "metadata": {
        "colab": {
          "base_uri": "https://localhost:8080/"
        },
        "id": "6zd03JjeueXQ",
        "outputId": "c86f098b-7a8f-4e66-b03e-7d74a77b0c08"
      },
      "execution_count": 9,
      "outputs": [
        {
          "output_type": "stream",
          "name": "stdout",
          "text": [
            "Historial actualizado: {'Breaking Python': 3, 'Data Science 101': 3, 'AI Rebellion': 1}\n",
            "Series vistas más de 2 veces: ['Breaking Python', 'Data Science 101']\n"
          ]
        }
      ]
    },
    {
      "cell_type": "markdown",
      "source": [
        "**5. Usuarios únicos por serie (Sets)**\n",
        "\n",
        "Tienes la siguiente información:\n",
        "\n",
        "usuarios_serie_A = {\"ana\", \"luis\", \"pedro\", \"maria\"}\n",
        "usuarios_serie_B = {\"maria\", \"pedro\", \"carla\", \"lucas\"}\n",
        "\n",
        "Usando sets:\n",
        "\n",
        "*\tEncuentra qué usuarios vieron ambas series\n",
        "\n",
        "*\tQué usuarios vieron solo la serie A\n",
        "\n",
        "*\tQué usuarios únicos vieron al menos una de las dos\n"
      ],
      "metadata": {
        "id": "6KaAq_iDuekY"
      }
    },
    {
      "cell_type": "code",
      "source": [
        "# Conjuntos de usuarios por serie\n",
        "usuarios_serie_A = {\"ana\", \"luis\", \"pedro\", \"maria\"}\n",
        "usuarios_serie_B = {\"maria\", \"pedro\", \"carla\", \"lucas\"}\n",
        "\n",
        "# 1. Usuarios que vieron ambas series (intersección)\n",
        "usuarios_ambas = usuarios_serie_A & usuarios_serie_B\n",
        "print(\"Usuarios que vieron ambas series:\", usuarios_ambas)\n",
        "\n",
        "# 2. Usuarios que vieron solo la serie A (diferencia de conjuntos)\n",
        "usuarios_solo_A = usuarios_serie_A - usuarios_serie_B\n",
        "print(\"Usuarios que vieron solo la serie A:\", usuarios_solo_A)\n",
        "\n",
        "# 3. Usuarios únicos que vieron al menos una de las dos (unión de conjuntos)\n",
        "usuarios_unicos = usuarios_serie_A | usuarios_serie_B\n",
        "print(\"Usuarios únicos que vieron al menos una de las dos:\", usuarios_unicos)"
      ],
      "metadata": {
        "colab": {
          "base_uri": "https://localhost:8080/"
        },
        "id": "Cy9z2zHNugSA",
        "outputId": "64f02878-45dd-413e-b0af-08ddc6e9bbe0"
      },
      "execution_count": 10,
      "outputs": [
        {
          "output_type": "stream",
          "name": "stdout",
          "text": [
            "Usuarios que vieron ambas series: {'maria', 'pedro'}\n",
            "Usuarios que vieron solo la serie A: {'ana', 'luis'}\n",
            "Usuarios únicos que vieron al menos una de las dos: {'ana', 'maria', 'pedro', 'carla', 'lucas', 'luis'}\n"
          ]
        }
      ]
    },
    {
      "cell_type": "markdown",
      "source": [
        "**6. Recomendaciones compartidas (Diccionario + Sets)**\n",
        "\n",
        "Tienes una estructura con recomendaciones por usuario:\n",
        "recomendaciones = {\n",
        "  \"ana\": {\"Machine Love\", \"AI Rebellion\"},\n",
        "  \"luis\": {\"AI Rebellion\", \"Debug Wars\"},\n",
        "  \"pedro\": {\"Debug Wars\", \"Machine Love\"}\n",
        "}\n",
        "\n",
        "Encuentra con código:\n",
        "\n",
        "*\tLas series que fueron recomendadas a todos\n",
        "\n",
        "*\tLas series recomendadas a al menos dos personas\n",
        "\n",
        "*\tLas series recomendadas solo a una persona\n",
        "\n"
      ],
      "metadata": {
        "id": "C9mc9IzKugob"
      }
    },
    {
      "cell_type": "code",
      "source": [
        "from collections import Counter\n",
        "\n",
        "# Diccionario de recomendaciones por usuario\n",
        "recomendaciones = {\n",
        "    \"ana\": {\"Machine Love\", \"AI Rebellion\"},\n",
        "    \"luis\": {\"AI Rebellion\", \"Debug Wars\"},\n",
        "    \"pedro\": {\"Debug Wars\", \"Machine Love\"}\n",
        "}\n",
        "\n",
        "# 1. Series recomendadas a todos (intersección)\n",
        "series_todos = set.intersection(*recomendaciones.values())\n",
        "print(\"Series recomendadas a todos:\", \"Ninguna\" if not series_todos else \", \".join(series_todos))\n",
        "\n",
        "# 2. Series recomendadas a al menos dos personas (conteo de apariciones)\n",
        "conteo_series = Counter(serie for series in recomendaciones.values() for serie in series)\n",
        "series_dos_personas = {serie for serie, conteo in conteo_series.items() if conteo >= 2}\n",
        "print(\"Series recomendadas a al menos dos personas:\", \"Ninguna\" if not series_dos_personas else \", \".join(series_dos_personas))\n",
        "\n",
        "# 3. Series recomendadas solo a una persona\n",
        "series_una_persona = {serie for serie, conteo in conteo_series.items() if conteo == 1}\n",
        "print(\"Series recomendadas solo a una persona:\", \"Ninguna\" if not series_una_persona else \", \".join(series_una_persona))"
      ],
      "metadata": {
        "colab": {
          "base_uri": "https://localhost:8080/"
        },
        "id": "NF32UQmGujq4",
        "outputId": "78f85550-7639-4b4a-f838-180e02818147"
      },
      "execution_count": 17,
      "outputs": [
        {
          "output_type": "stream",
          "name": "stdout",
          "text": [
            "Series recomendadas a todos: Ninguna\n",
            "Series recomendadas a al menos dos personas: Machine Love, AI Rebellion, Debug Wars\n",
            "Series recomendadas solo a una persona: Ninguna\n"
          ]
        }
      ]
    },
    {
      "cell_type": "markdown",
      "source": [
        "**7. Transformar ratings (Tuplas + comprensión de diccionario)**\n",
        "\n",
        "Tienes una lista de tuplas con (serie, rating):\n",
        "puntuaciones = [(\"Breaking Python\", 4.0), (\"AI Rebellion\", 5.0), (\"Debug Wars\", 2.0)]\n",
        "\n",
        "Crea un diccionario en el formato:\n",
        "{\n",
        "  \"Breaking Python\": \"Buena\",\n",
        "  \"AI Rebellion\": \"Excelente\",\n",
        "  \"Debug Wars\": \"Regular\"\n",
        "}\n",
        "\n",
        "Regla:\n",
        "\n",
        "* Rating >= 4.5 → \"Excelente\"\n",
        "\n",
        "* 3 <= rating < 4.5 → \"Buena\"\n",
        "\n",
        "* < 3 → \"Regular\"\n",
        "\n"
      ],
      "metadata": {
        "id": "wcZNNsbMukAE"
      }
    },
    {
      "cell_type": "code",
      "source": [
        "# Lista de tuplas con (serie, rating)\n",
        "puntuaciones = [(\"Breaking Python\", 4.0), (\"AI Rebellion\", 5.0), (\"Debug Wars\", 2.0)]\n",
        "\n",
        "# Crear el diccionario con comprensión de diccionario\n",
        "clasificacion = {serie: \"Excelente\" if rating >= 4.5 else \"Buena\" if 3 <= rating < 4.5 else \"Regular\" for serie, rating in puntuaciones}\n",
        "\n",
        "# Mostrar el resultado\n",
        "print(clasificacion)"
      ],
      "metadata": {
        "colab": {
          "base_uri": "https://localhost:8080/"
        },
        "id": "2qiiYiUzumt6",
        "outputId": "69af5dc5-5f8c-4b92-c93f-790dd87ed270"
      },
      "execution_count": 18,
      "outputs": [
        {
          "output_type": "stream",
          "name": "stdout",
          "text": [
            "{'Breaking Python': 'Buena', 'AI Rebellion': 'Excelente', 'Debug Wars': 'Regular'}\n"
          ]
        }
      ]
    },
    {
      "cell_type": "markdown",
      "source": [
        "**8. Usuarios y géneros favoritos (Diccionario + slicing)**\n",
        "\n",
        "Cada usuario tiene una lista de sus géneros preferidos (ordenados por preferencia):\n",
        "gustos = {\n",
        "  \"ana\": [\"Sci-Fi\", \"Drama\", \"Documental\"],\n",
        "  \"luis\": [\"Comedia\", \"Acción\", \"Sci-Fi\"],\n",
        "  \"pedro\": [\"Drama\", \"Sci-Fi\", \"Romance\"]\n",
        "}\n",
        "\n",
        "Realiza:\n",
        "\n",
        "*\tUna lista con el primer género favorito de cada usuario\n",
        "\n",
        "*\tUna lista con todos los géneros mencionados sin repeticiones\n",
        "\n",
        "*\t¿Cuál género aparece más veces en la primera posición?\n",
        "\n"
      ],
      "metadata": {
        "id": "2BY5y2Dbum9c"
      }
    },
    {
      "cell_type": "code",
      "source": [
        "from collections import Counter\n",
        "\n",
        "# Diccionario de géneros favoritos por usuario\n",
        "gustos = {\n",
        "    \"ana\": [\"Sci-Fi\", \"Drama\", \"Documental\"],\n",
        "    \"luis\": [\"Comedia\", \"Acción\", \"Sci-Fi\"],\n",
        "    \"pedro\": [\"Drama\", \"Sci-Fi\", \"Romance\"],\n",
        "    \"Juan\": [\"Comedia\", \"Sci-Fi\", \"Terror\"],\n",
        "    \"Simon\": [\"Sci-Fi\", \"Terror\", \"Romance\"],\n",
        "}\n",
        "\n",
        "# 1. Obtener la lista con el primer género favorito de cada usuario\n",
        "primeros_generos = [generos[0] for generos in gustos.values()]\n",
        "print(\"Primer género favorito de cada usuario:\", primeros_generos)\n",
        "\n",
        "# 2. Contar la frecuencia de cada género en todas las listas\n",
        "conteo_generos = Counter(genero for generos in gustos.values() for genero in generos)\n",
        "\n",
        "# 3. Obtener solo los géneros mencionados **una sola vez**\n",
        "generos_unicos = [genero for genero, cantidad in conteo_generos.items() if cantidad == 1]\n",
        "print(\"Géneros mencionados solo una vez:\", generos_unicos)\n",
        "\n",
        "# 4. Determinar cuáles géneros aparecen más veces en la primera posición\n",
        "max_apariciones = max(Counter(primeros_generos).values(), default=0)\n",
        "generos_mas_comunes = [genero for genero, cantidad in Counter(primeros_generos).items() if cantidad == max_apariciones]\n",
        "\n",
        "print(\"Géneros más frecuentes en la primera posición:\", generos_mas_comunes if generos_mas_comunes else \"Ninguno\")"
      ],
      "metadata": {
        "colab": {
          "base_uri": "https://localhost:8080/"
        },
        "id": "qJCM2G_nuqaD",
        "outputId": "d59479bc-cb29-4083-95a6-7ea8e672d4d2"
      },
      "execution_count": 31,
      "outputs": [
        {
          "output_type": "stream",
          "name": "stdout",
          "text": [
            "Primer género favorito de cada usuario: ['Sci-Fi', 'Comedia', 'Drama', 'Comedia', 'Sci-Fi']\n",
            "Géneros mencionados solo una vez: ['Documental', 'Acción']\n",
            "Géneros más frecuentes en la primera posición: ['Sci-Fi', 'Comedia']\n"
          ]
        }
      ]
    },
    {
      "cell_type": "markdown",
      "source": [
        "**9. Resumen de votos por serie (Diccionario + listas)**\n",
        "\n",
        "Tienes una lista de votos como pares (serie, puntaje):\n",
        "votos = [(\"Breaking Python\", 5), (\"AI Rebellion\", 4), (\"Breaking Python\", 4), (\"Debug Wars\", 3), (\"AI Rebellion\", 5)]\n",
        "\n",
        "Crea un diccionario donde la clave sea la serie y el valor una lista con todos sus votos. Ejemplo:\n",
        "{\n",
        "  \"Breaking Python\": [5, 4],\n",
        "  ...\n",
        "}\n",
        "\n",
        "Luego, calcula el promedio de rating de cada serie.\n"
      ],
      "metadata": {
        "id": "yH8lWQhauqxj"
      }
    },
    {
      "cell_type": "code",
      "source": [
        "from collections import defaultdict\n",
        "\n",
        "# Lista de votos como pares (serie, puntaje)\n",
        "votos = [(\"Breaking Python\", 5), (\"AI Rebellion\", 4), (\"Breaking Python\", 4), (\"Debug Wars\", 3), (\"AI Rebellion\", 5)]\n",
        "\n",
        "# Crear el diccionario con listas de votos por serie\n",
        "votos_por_serie = defaultdict(list)\n",
        "\n",
        "for serie, puntaje in votos:\n",
        "    votos_por_serie[serie].append(puntaje)\n",
        "\n",
        "# Calcular el promedio de rating de cada serie\n",
        "promedios = {serie: sum(puntajes) / len(puntajes) for serie, puntajes in votos_por_serie.items()}\n",
        "\n",
        "# Mostrar los resultados\n",
        "print(\"Votos por serie:\", dict(votos_por_serie))\n",
        "print(\"Promedio de rating por serie:\", promedios)"
      ],
      "metadata": {
        "colab": {
          "base_uri": "https://localhost:8080/"
        },
        "id": "pcoKq4JmvuOn",
        "outputId": "c6cb7de5-eba2-41ba-93be-3e0f2cd23840"
      },
      "execution_count": 20,
      "outputs": [
        {
          "output_type": "stream",
          "name": "stdout",
          "text": [
            "Votos por serie: {'Breaking Python': [5, 4], 'AI Rebellion': [4, 5], 'Debug Wars': [3]}\n",
            "Promedio de rating por serie: {'Breaking Python': 4.5, 'AI Rebellion': 4.5, 'Debug Wars': 3.0}\n"
          ]
        }
      ]
    },
    {
      "cell_type": "markdown",
      "source": [
        "**10. Motor básico de recomendaciones (Integrador)**\n",
        "\n",
        "Define una función recomendar_series(usuario, historial, catalogo) que:\n",
        "\n",
        "*\tReciba el nombre de usuario, su historial en forma de diccionario {serie: vistas} y un catálogo con todas las series disponibles.\n",
        "\n",
        "*\tDevuelva una lista de series del catálogo que no haya visto aún.\n",
        "\n",
        "Ejemplo:\n",
        "usuario = \"ana\"\n",
        "historial = {\"AI Rebellion\": 3, \"Debug Wars\": 1}\n",
        "catalogo = [\"AI Rebellion\", \"Debug Wars\", \"Machine Love\", \"Data Science 101\"]\n",
        "\n",
        "Resultado:\n",
        "[\"Machine Love\", \"Data Science 101\"]\n"
      ],
      "metadata": {
        "id": "9TqvwG9Euw8c"
      }
    },
    {
      "cell_type": "code",
      "source": [
        "def recomendar_series(usuario, historial, catalogo):\n",
        "    \"\"\"\n",
        "    Devuelve una lista de series del catálogo que el usuario aún no ha visto.\n",
        "\n",
        "    :param usuario: Nombre del usuario (no se usa en esta función pero es parte del diseño).\n",
        "    :param historial: Diccionario {serie: vistas} con el historial del usuario.\n",
        "    :param catalogo: Lista con todas las series disponibles en el catálogo.\n",
        "    :return: Lista con las series que el usuario aún no ha visto.\n",
        "    \"\"\"\n",
        "    # Filtrar las series que no están en el historial del usuario\n",
        "    series_recomendadas = [serie for serie in catalogo if serie not in historial]\n",
        "    return series_recomendadas\n",
        "\n",
        "import random\n",
        "\n",
        "# Datos de ejemplo\n",
        "usuario = \"Carlos\"\n",
        "historial = {\n",
        "    \"Deep Learning Chronicles\": 4,\n",
        "    \"Quantum Code\": 2,\n",
        "    \"Cybernetic Minds\": 5,\n",
        "    \"AI and Beyond\": 3\n",
        "}\n",
        "\n",
        "catalogo = [\n",
        "    \"Deep Learning Chronicles\", \"Quantum Code\", \"Cybernetic Minds\", \"AI and Beyond\",\n",
        "    \"Neural Networks Explained\", \"Data Science Frontier\", \"Future Algorithms\", \"Code Wars\",\n",
        "    \"AI vs Humans\", \"Machine Ethics\", \"Singularity Now\", \"Predictive Models\"\n",
        "]\n",
        "\n",
        "\n",
        "# Generar resultado\n",
        "series_recomendadas = recomendar_series(usuario, historial, catalogo)\n",
        "\n",
        "print(f\"Series recomendadas para {usuario}: {series_recomendadas}\")"
      ],
      "metadata": {
        "colab": {
          "base_uri": "https://localhost:8080/"
        },
        "id": "DESXWAT4uwuM",
        "outputId": "2797d752-47ec-4caa-9913-4f91de6405c8"
      },
      "execution_count": 25,
      "outputs": [
        {
          "output_type": "stream",
          "name": "stdout",
          "text": [
            "Series recomendadas para Carlos: ['Neural Networks Explained', 'Data Science Frontier', 'Future Algorithms', 'Code Wars', 'AI vs Humans', 'Machine Ethics', 'Singularity Now', 'Predictive Models']\n"
          ]
        }
      ]
    }
  ]
}